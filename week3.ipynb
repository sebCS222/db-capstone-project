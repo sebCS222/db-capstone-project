{
 "cells": [
  {
   "cell_type": "code",
   "execution_count": 7,
   "id": "56b79b5e",
   "metadata": {},
   "outputs": [],
   "source": [
    "import mysql.connector as connector\n",
    "from mysql.connector.pooling import MySQLConnectionPool\n",
    "from mysql.connector import Error\n",
    "\n",
    "connection = connector.connect(user=\"root\", password=\"BlueLake12#\")\n",
    "cursor = connection.cursor()"
   ]
  },
  {
   "cell_type": "code",
   "execution_count": 9,
   "id": "55cb9754",
   "metadata": {},
   "outputs": [],
   "source": [
    "cursor.execute(\"USE littlelemondb\")"
   ]
  },
  {
   "cell_type": "code",
   "execution_count": 10,
   "id": "b396acaa",
   "metadata": {},
   "outputs": [
    {
     "name": "stdout",
     "output_type": "stream",
     "text": [
      "('bookings',)\n",
      "('customer',)\n",
      "('delivery',)\n",
      "('menu',)\n",
      "('orders',)\n",
      "('ordersview',)\n",
      "('staff',)\n"
     ]
    }
   ],
   "source": [
    "cursor.execute(\"SHOW TABLES\")\n",
    "for table in cursor:\n",
    "    print(table)"
   ]
  },
  {
   "cell_type": "code",
   "execution_count": 11,
   "id": "df1e81de",
   "metadata": {},
   "outputs": [
    {
     "name": "stdout",
     "output_type": "stream",
     "text": [
      "('name',)\n"
     ]
    }
   ],
   "source": [
    "cursor.execute(\"SELECT customer.name FROM orders LEFT JOIN customer ON customer_customer_id = customer.customer_id WHERE total_cost > 60\")\n",
    "results = cursor.fetchall()\n",
    "cols = cursor.column_names\n",
    "print(cols)\n",
    "for result in results:\n",
    "    print(result)"
   ]
  },
  {
   "cell_type": "code",
   "execution_count": null,
   "id": "1b5f98f4",
   "metadata": {},
   "outputs": [],
   "source": []
  }
 ],
 "metadata": {
  "kernelspec": {
   "display_name": "Python 3 (ipykernel)",
   "language": "python",
   "name": "python3"
  },
  "language_info": {
   "codemirror_mode": {
    "name": "ipython",
    "version": 3
   },
   "file_extension": ".py",
   "mimetype": "text/x-python",
   "name": "python",
   "nbconvert_exporter": "python",
   "pygments_lexer": "ipython3",
   "version": "3.10.9"
  }
 },
 "nbformat": 4,
 "nbformat_minor": 5
}
